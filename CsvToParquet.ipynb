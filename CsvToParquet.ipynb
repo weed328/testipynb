{
 "cells": [
  {
   "cell_type": "code",
   "execution_count": 2,
   "id": "884637b4-5043-451b-89fe-3d617d877f17",
   "metadata": {},
   "outputs": [],
   "source": [
    "import pandas as pd\n",
    "import pyarrow as pa\n",
    "import pyarrow.parquet as pq"
   ]
  },
  {
   "cell_type": "code",
   "execution_count": 18,
   "id": "a53794fb-f847-4c42-a5ea-892c4dd33882",
   "metadata": {},
   "outputs": [
    {
     "name": "stdout",
     "output_type": "stream",
     "text": [
      "<class 'pandas.core.frame.DataFrame'>\n",
      "RangeIndex: 35497 entries, 0 to 35496\n",
      "Data columns (total 3 columns):\n",
      " #   Column   Non-Null Count  Dtype \n",
      "---  ------   --------------  ----- \n",
      " 0   Date     35497 non-null  object\n",
      " 1   User     35497 non-null  object\n",
      " 2   Message  35497 non-null  object\n",
      "dtypes: object(3)\n",
      "memory usage: 832.1+ KB\n"
     ]
    }
   ],
   "source": [
    "df = pd.read_csv(\"KakaoTalk_Chat_한국 데이터 엔지니어 모임_2024-02-28-15-07-12.csv\")\n",
    "df.info()"
   ]
  },
  {
   "cell_type": "code",
   "execution_count": 3,
   "id": "6b9dfb55-cb47-4764-a297-2314828cd606",
   "metadata": {},
   "outputs": [],
   "source": [
    "csv_file = \"KakaoTalk_Chat_죽마고우_2024-03-01-22-17-28.csv\"\n",
    "parquet_file = \"./parquetFile/KakaoTalk_Chat2.parquet\"\n",
    "chunksize = 500\n",
    "csv_stream = pd.read_csv(csv_file, sep=',', chunksize=chunksize, low_memory=False, encoding = 'utf-8')\n",
    "chunk = next(iter(csv_stream))"
   ]
  },
  {
   "cell_type": "code",
   "execution_count": 4,
   "id": "065c1025-b27b-470d-9e53-ebc8ac8c5636",
   "metadata": {},
   "outputs": [
    {
     "data": {
      "text/plain": [
       "True"
      ]
     },
     "execution_count": 4,
     "metadata": {},
     "output_type": "execute_result"
    }
   ],
   "source": [
    "parquet_schema_old = pa.Table.from_pandas(df=chunk).schema\n",
    "parquet_schema_new = pa.schema([\n",
    "    ('Date', pa.string()),\n",
    "    ('User', pa.string()),\n",
    "    ('Message', pa.string()),\n",
    "    \n",
    "])\n",
    "parquet_schema_old == parquet_schema_new"
   ]
  },
  {
   "cell_type": "code",
   "execution_count": 5,
   "id": "cc430a8b-4c5d-4889-a10d-605fd90027aa",
   "metadata": {},
   "outputs": [
    {
     "name": "stdout",
     "output_type": "stream",
     "text": [
      "Chunk 0\n",
      "Chunk 1\n",
      "Chunk 2\n",
      "Chunk 3\n",
      "Chunk 4\n",
      "Chunk 5\n",
      "Chunk 6\n",
      "Chunk 7\n",
      "Chunk 8\n",
      "Chunk 9\n",
      "Chunk 10\n",
      "Chunk 11\n",
      "Chunk 12\n",
      "Chunk 13\n",
      "Chunk 14\n",
      "Chunk 15\n",
      "Chunk 16\n",
      "Chunk 17\n",
      "Chunk 18\n",
      "Chunk 19\n",
      "Chunk 20\n",
      "Chunk 21\n",
      "Chunk 22\n",
      "Chunk 23\n",
      "Chunk 24\n",
      "Chunk 25\n",
      "Chunk 26\n",
      "Chunk 27\n",
      "Chunk 28\n",
      "Chunk 29\n",
      "Chunk 30\n",
      "Chunk 31\n",
      "Chunk 32\n",
      "Chunk 33\n",
      "Chunk 34\n",
      "Chunk 35\n",
      "Chunk 36\n",
      "Chunk 37\n",
      "Chunk 38\n",
      "Chunk 39\n",
      "Chunk 40\n",
      "Chunk 41\n",
      "Chunk 42\n",
      "Chunk 43\n",
      "Chunk 44\n",
      "Chunk 45\n",
      "Chunk 46\n",
      "Chunk 47\n",
      "Chunk 48\n",
      "Chunk 49\n",
      "Chunk 50\n",
      "Chunk 51\n",
      "Chunk 52\n",
      "Chunk 53\n",
      "Chunk 54\n",
      "Chunk 55\n",
      "Chunk 56\n",
      "Chunk 57\n",
      "Chunk 58\n",
      "Chunk 59\n",
      "Chunk 60\n",
      "Chunk 61\n",
      "Chunk 62\n",
      "Chunk 63\n",
      "Chunk 64\n",
      "Chunk 65\n",
      "Chunk 66\n",
      "Chunk 67\n",
      "Chunk 68\n",
      "Chunk 69\n",
      "Chunk 70\n",
      "Chunk 71\n",
      "Chunk 72\n",
      "Chunk 73\n",
      "Chunk 74\n",
      "Chunk 75\n",
      "Chunk 76\n",
      "Chunk 77\n",
      "Chunk 78\n",
      "Chunk 79\n",
      "Chunk 80\n",
      "Chunk 81\n",
      "Chunk 82\n",
      "Chunk 83\n",
      "Chunk 84\n",
      "Chunk 85\n",
      "Chunk 86\n",
      "Chunk 87\n"
     ]
    }
   ],
   "source": [
    "chunksize = 500\n",
    "csv_stream = pd.read_csv(csv_file, sep=',', chunksize=chunksize, low_memory=False)\n",
    "for i, chunk in enumerate(csv_stream):\n",
    "    print(\"Chunk\", i)\n",
    "    if i == 0:\n",
    "        # Guess the schema of the CSV file from the first chunk\n",
    "        parquet_schema = parquet_schema_new\n",
    "        # Open a Parquet file for writing\n",
    "        parquet_writer = pq.ParquetWriter(parquet_file, parquet_schema, compression='snappy')\n",
    "    # Write CSV chunk to the parquet file\n",
    "    table = pa.Table.from_pandas(chunk, schema=parquet_schema)\n",
    "    parquet_writer.write_table(table)\n",
    "else :\n",
    "    parquet_writer.close()"
   ]
  },
  {
   "cell_type": "code",
   "execution_count": 7,
   "id": "7e533cdc-5c14-4f49-97d8-df0665c9cdfe",
   "metadata": {},
   "outputs": [
    {
     "data": {
      "text/html": [
       "<div>\n",
       "<style scoped>\n",
       "    .dataframe tbody tr th:only-of-type {\n",
       "        vertical-align: middle;\n",
       "    }\n",
       "\n",
       "    .dataframe tbody tr th {\n",
       "        vertical-align: top;\n",
       "    }\n",
       "\n",
       "    .dataframe thead th {\n",
       "        text-align: right;\n",
       "    }\n",
       "</style>\n",
       "<table border=\"1\" class=\"dataframe\">\n",
       "  <thead>\n",
       "    <tr style=\"text-align: right;\">\n",
       "      <th></th>\n",
       "      <th>Date</th>\n",
       "      <th>User</th>\n",
       "      <th>Message</th>\n",
       "    </tr>\n",
       "  </thead>\n",
       "  <tbody>\n",
       "    <tr>\n",
       "      <th>0</th>\n",
       "      <td>2022-07-11 10:35:42</td>\n",
       "      <td>경기대 바텀남</td>\n",
       "      <td>석차</td>\n",
       "    </tr>\n",
       "    <tr>\n",
       "      <th>1</th>\n",
       "      <td>2022-07-11 10:35:47</td>\n",
       "      <td>경기대 바텀남</td>\n",
       "      <td>이거 통계학과안에서만 기준이지</td>\n",
       "    </tr>\n",
       "    <tr>\n",
       "      <th>2</th>\n",
       "      <td>2022-07-11 10:52:02</td>\n",
       "      <td>경기대 바텀남</td>\n",
       "      <td>맞네</td>\n",
       "    </tr>\n",
       "    <tr>\n",
       "      <th>3</th>\n",
       "      <td>2022-07-11 11:06:18</td>\n",
       "      <td>최지혁</td>\n",
       "      <td>진호 1등 미칬네</td>\n",
       "    </tr>\n",
       "    <tr>\n",
       "      <th>4</th>\n",
       "      <td>2022-07-11 13:01:35</td>\n",
       "      <td>움직이는 기상청 김지노</td>\n",
       "      <td>1등 달다</td>\n",
       "    </tr>\n",
       "  </tbody>\n",
       "</table>\n",
       "</div>"
      ],
      "text/plain": [
       "                  Date          User           Message\n",
       "0  2022-07-11 10:35:42       경기대 바텀남                석차\n",
       "1  2022-07-11 10:35:47       경기대 바텀남  이거 통계학과안에서만 기준이지\n",
       "2  2022-07-11 10:52:02       경기대 바텀남                맞네\n",
       "3  2022-07-11 11:06:18           최지혁         진호 1등 미칬네\n",
       "4  2022-07-11 13:01:35  움직이는 기상청 김지노             1등 달다"
      ]
     },
     "execution_count": 7,
     "metadata": {},
     "output_type": "execute_result"
    }
   ],
   "source": [
    "df = pd.read_parquet('./parquetFile/KakaoTalk_Chat2.parquet')\n",
    "df.head()"
   ]
  },
  {
   "cell_type": "code",
   "execution_count": null,
   "id": "9cbddcda-aecb-4c90-b159-b660ce804045",
   "metadata": {},
   "outputs": [],
   "source": []
  },
  {
   "cell_type": "code",
   "execution_count": null,
   "id": "4239edab-877b-4674-ab0b-133e9dc247d0",
   "metadata": {},
   "outputs": [],
   "source": []
  },
  {
   "cell_type": "code",
   "execution_count": null,
   "id": "971fbadc-3cb4-4476-8539-a886c746687a",
   "metadata": {},
   "outputs": [],
   "source": []
  },
  {
   "cell_type": "code",
   "execution_count": null,
   "id": "a75f4af7-25b1-4f98-a34c-182f888024e4",
   "metadata": {},
   "outputs": [],
   "source": []
  }
 ],
 "metadata": {
  "kernelspec": {
   "display_name": "Python 3 (ipykernel)",
   "language": "python",
   "name": "python3"
  },
  "language_info": {
   "codemirror_mode": {
    "name": "ipython",
    "version": 3
   },
   "file_extension": ".py",
   "mimetype": "text/x-python",
   "name": "python",
   "nbconvert_exporter": "python",
   "pygments_lexer": "ipython3",
   "version": "3.11.6"
  }
 },
 "nbformat": 4,
 "nbformat_minor": 5
}
